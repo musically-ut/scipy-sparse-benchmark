{
 "cells": [
  {
   "cell_type": "markdown",
   "metadata": {},
   "source": [
    "# Calculate sparse matrix conversion times"
   ]
  },
  {
   "cell_type": "code",
   "execution_count": null,
   "metadata": {
    "collapsed": true
   },
   "outputs": [],
   "source": [
    "%matplotlib inline"
   ]
  },
  {
   "cell_type": "code",
   "execution_count": 50,
   "metadata": {
    "collapsed": false
   },
   "outputs": [],
   "source": [
    "import matplotlib\n",
    "import pandas as pd\n",
    "import scipy as sp\n",
    "import scipy.sparse as S\n",
    "import timeit\n",
    "import seaborn as sns"
   ]
  },
  {
   "cell_type": "code",
   "execution_count": 42,
   "metadata": {
    "collapsed": false
   },
   "outputs": [
    {
     "data": {
      "text/plain": [
       "<matplotlib.figure.Figure at 0x1114a30b8>"
      ]
     },
     "metadata": {},
     "output_type": "display_data"
    }
   ],
   "source": [
    "sns.set(palette='Set2')\n",
    "sns.despine()"
   ]
  },
  {
   "cell_type": "code",
   "execution_count": 40,
   "metadata": {
    "collapsed": false
   },
   "outputs": [
    {
     "data": {
      "text/plain": [
       "'0.17.0'"
      ]
     },
     "execution_count": 40,
     "metadata": {},
     "output_type": "execute_result"
    }
   ],
   "source": [
    "sp.__version__"
   ]
  },
  {
   "cell_type": "markdown",
   "metadata": {},
   "source": [
    "Set up the tests"
   ]
  },
  {
   "cell_type": "code",
   "execution_count": 27,
   "metadata": {
    "collapsed": true
   },
   "outputs": [],
   "source": [
    "R = S.rand(10000, 10000)\n",
    "formats = ['csr', 'coo', 'csc', 'dia', 'lil', 'dok', 'bsr']\n",
    "runs = 10"
   ]
  },
  {
   "cell_type": "markdown",
   "metadata": {},
   "source": [
    "Run the profiling"
   ]
  },
  {
   "cell_type": "code",
   "execution_count": 54,
   "metadata": {
    "collapsed": false
   },
   "outputs": [
    {
     "name": "stdout",
     "output_type": "stream",
     "text": [
      "CPU times: user 2 µs, sys: 1e+03 ns, total: 3 µs\n",
      "Wall time: 5.96 µs\n",
      "Done csr to csr\n",
      "Done csr to coo\n",
      "Done csr to csc\n"
     ]
    },
    {
     "name": "stderr",
     "output_type": "stream",
     "text": [
      "/Users/musically_ut/.virtualenvs/scipy-sparse-benchmark/lib/python3.5/site-packages/scipy/sparse/coo.py:360: SparseEfficiencyWarning: Constructing a DIA matrix with 19814 diagonals is inefficient\n",
      "  \"is inefficient\" % len(diags), SparseEfficiencyWarning)\n"
     ]
    },
    {
     "name": "stdout",
     "output_type": "stream",
     "text": [
      "Done csr to dia\n",
      "Done csr to lil\n",
      "Done csr to dok\n",
      "Done csr to bsr\n",
      "Done coo to csr\n",
      "Done coo to coo\n",
      "Done coo to csc\n",
      "Done coo to dia\n",
      "Done coo to lil\n",
      "Done coo to dok\n",
      "Done coo to bsr\n",
      "Done csc to csr\n",
      "Done csc to coo\n",
      "Done csc to csc\n",
      "Done csc to dia\n",
      "Done csc to lil\n",
      "Done csc to dok\n",
      "Done csc to bsr\n",
      "Done dia to csr\n",
      "Done dia to coo\n",
      "Done dia to csc\n",
      "Done dia to dia\n",
      "Done dia to lil\n",
      "Done dia to dok\n",
      "Done dia to bsr\n",
      "Done lil to csr\n",
      "Done lil to coo\n",
      "Done lil to csc\n",
      "Done lil to dia\n",
      "Done lil to lil\n",
      "Done lil to dok\n",
      "Done lil to bsr\n",
      "Done dok to csr\n",
      "Done dok to coo\n",
      "Done dok to csc\n",
      "Done dok to dia\n",
      "Done dok to lil\n",
      "Done dok to dok\n",
      "Done dok to bsr\n",
      "Done bsr to csr\n",
      "Done bsr to coo\n",
      "Done bsr to csc\n",
      "Done bsr to dia\n",
      "Done bsr to lil\n",
      "Done bsr to dok\n",
      "Done bsr to bsr\n"
     ]
    }
   ],
   "source": [
    "%time\n",
    "profiling_data = []\n",
    "for from_ in formats:\n",
    "    tmp = R.asformat(from_)\n",
    "    for to_ in formats:\n",
    "        mean_run_time = timeit.timeit(lambda: tmp.asformat(to_), number=runs)\n",
    "        \n",
    "        print('Done {} to {}'.format(from_, to_))\n",
    "        profiling_data.append({\n",
    "                'from': from_,\n",
    "                'to': to_,\n",
    "                'time': mean_run_time\n",
    "        })\n",
    "    "
   ]
  },
  {
   "cell_type": "code",
   "execution_count": 34,
   "metadata": {
    "collapsed": false
   },
   "outputs": [],
   "source": [
    "df = pd.DataFrame.from_records(profiling_data)"
   ]
  },
  {
   "cell_type": "code",
   "execution_count": 48,
   "metadata": {
    "collapsed": false
   },
   "outputs": [],
   "source": [
    "conv_data_matrix = df.pivot('from', 'to', 'mean_time')"
   ]
  },
  {
   "cell_type": "code",
   "execution_count": 49,
   "metadata": {
    "collapsed": false
   },
   "outputs": [
    {
     "data": {
      "text/html": [
       "<div>\n",
       "<table border=\"1\" class=\"dataframe\">\n",
       "  <thead>\n",
       "    <tr style=\"text-align: right;\">\n",
       "      <th>to</th>\n",
       "      <th>bsr</th>\n",
       "      <th>coo</th>\n",
       "      <th>csc</th>\n",
       "      <th>csr</th>\n",
       "      <th>dia</th>\n",
       "      <th>dok</th>\n",
       "      <th>lil</th>\n",
       "    </tr>\n",
       "    <tr>\n",
       "      <th>from</th>\n",
       "      <th></th>\n",
       "      <th></th>\n",
       "      <th></th>\n",
       "      <th></th>\n",
       "      <th></th>\n",
       "      <th></th>\n",
       "      <th></th>\n",
       "    </tr>\n",
       "  </thead>\n",
       "  <tbody>\n",
       "    <tr>\n",
       "      <th>bsr</th>\n",
       "      <td>728.146028</td>\n",
       "      <td>699.574206</td>\n",
       "      <td>700.244540</td>\n",
       "      <td>699.073762</td>\n",
       "      <td>705.708206</td>\n",
       "      <td>721.951158</td>\n",
       "      <td>712.364218</td>\n",
       "    </tr>\n",
       "    <tr>\n",
       "      <th>coo</th>\n",
       "      <td>150.295508</td>\n",
       "      <td>122.795984</td>\n",
       "      <td>123.343313</td>\n",
       "      <td>122.338620</td>\n",
       "      <td>128.914163</td>\n",
       "      <td>144.643758</td>\n",
       "      <td>135.601739</td>\n",
       "    </tr>\n",
       "    <tr>\n",
       "      <th>csc</th>\n",
       "      <td>178.893901</td>\n",
       "      <td>151.180415</td>\n",
       "      <td>151.249629</td>\n",
       "      <td>150.903204</td>\n",
       "      <td>156.022782</td>\n",
       "      <td>172.056971</td>\n",
       "      <td>162.168196</td>\n",
       "    </tr>\n",
       "    <tr>\n",
       "      <th>csr</th>\n",
       "      <td>121.694293</td>\n",
       "      <td>95.517117</td>\n",
       "      <td>95.835970</td>\n",
       "      <td>95.414588</td>\n",
       "      <td>100.719860</td>\n",
       "      <td>115.481313</td>\n",
       "      <td>106.434383</td>\n",
       "    </tr>\n",
       "    <tr>\n",
       "      <th>dia</th>\n",
       "      <td>495.049977</td>\n",
       "      <td>262.017356</td>\n",
       "      <td>310.987225</td>\n",
       "      <td>212.846095</td>\n",
       "      <td>334.084834</td>\n",
       "      <td>436.516006</td>\n",
       "      <td>367.086054</td>\n",
       "    </tr>\n",
       "    <tr>\n",
       "      <th>dok</th>\n",
       "      <td>689.503858</td>\n",
       "      <td>600.509654</td>\n",
       "      <td>620.167325</td>\n",
       "      <td>580.865142</td>\n",
       "      <td>643.940421</td>\n",
       "      <td>678.839947</td>\n",
       "      <td>668.448575</td>\n",
       "    </tr>\n",
       "    <tr>\n",
       "      <th>lil</th>\n",
       "      <td>566.508840</td>\n",
       "      <td>523.468967</td>\n",
       "      <td>528.682984</td>\n",
       "      <td>518.824456</td>\n",
       "      <td>538.794193</td>\n",
       "      <td>555.364641</td>\n",
       "      <td>545.138009</td>\n",
       "    </tr>\n",
       "  </tbody>\n",
       "</table>\n",
       "</div>"
      ],
      "text/plain": [
       "to           bsr         coo         csc         csr         dia         dok  \\\n",
       "from                                                                           \n",
       "bsr   728.146028  699.574206  700.244540  699.073762  705.708206  721.951158   \n",
       "coo   150.295508  122.795984  123.343313  122.338620  128.914163  144.643758   \n",
       "csc   178.893901  151.180415  151.249629  150.903204  156.022782  172.056971   \n",
       "csr   121.694293   95.517117   95.835970   95.414588  100.719860  115.481313   \n",
       "dia   495.049977  262.017356  310.987225  212.846095  334.084834  436.516006   \n",
       "dok   689.503858  600.509654  620.167325  580.865142  643.940421  678.839947   \n",
       "lil   566.508840  523.468967  528.682984  518.824456  538.794193  555.364641   \n",
       "\n",
       "to           lil  \n",
       "from              \n",
       "bsr   712.364218  \n",
       "coo   135.601739  \n",
       "csc   162.168196  \n",
       "csr   106.434383  \n",
       "dia   367.086054  \n",
       "dok   668.448575  \n",
       "lil   545.138009  "
      ]
     },
     "execution_count": 49,
     "metadata": {},
     "output_type": "execute_result"
    }
   ],
   "source": [
    "conv_data_matrix"
   ]
  },
  {
   "cell_type": "code",
   "execution_count": 43,
   "metadata": {
    "collapsed": false
   },
   "outputs": [
    {
     "data": {
      "text/plain": [
       "<matplotlib.axes._subplots.AxesSubplot at 0x10bbb1eb8>"
      ]
     },
     "execution_count": 43,
     "metadata": {},
     "output_type": "execute_result"
    },
    {
     "data": {
      "image/png": "[encoded data removed]",
      "text/plain": [
       "<matplotlib.figure.Figure at 0x110777b70>"
      ]
     },
     "metadata": {},
     "output_type": "display_data"
    }
   ],
   "source": [
    "sns.heatmap(conv_data_matrix)"
   ]
  },
  {
   "cell_type": "code",
   "execution_count": null,
   "metadata": {
    "collapsed": true
   },
   "outputs": [],
   "source": []
  }
 ],
 "metadata": {
  "kernelspec": {
   "display_name": "Python 3",
   "language": "python",
   "name": "python3"
  },
  "language_info": {
   "codemirror_mode": {
    "name": "ipython",
    "version": 3
   },
   "file_extension": ".py",
   "mimetype": "text/x-python",
   "name": "python",
   "nbconvert_exporter": "python",
   "pygments_lexer": "ipython3",
   "version": "3.5.1"
  }
 },
 "nbformat": 4,
 "nbformat_minor": 0
}
